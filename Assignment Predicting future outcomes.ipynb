{
 "cells": [
  {
   "cell_type": "markdown",
   "id": "ce052066",
   "metadata": {},
   "source": [
    "# Assignment Activity 1: Making predictions with regression"
   ]
  },
  {
   "cell_type": "code",
   "execution_count": 1,
   "id": "537d4b18",
   "metadata": {},
   "outputs": [],
   "source": [
    "# Import libraries\n",
    "\n",
    "import pandas as pd\n",
    "import numpy as np\n",
    "import matplotlib.pyplot as plt\n",
    "import seaborn as sns\n",
    "from sklearn.linear_model import LinearRegression"
   ]
  },
  {
   "cell_type": "markdown",
   "id": "c0b7f242",
   "metadata": {},
   "source": [
    "## Question 2: Import the Python Libraries and Load Data"
   ]
  },
  {
   "cell_type": "code",
   "execution_count": 2,
   "id": "ad02f986",
   "metadata": {},
   "outputs": [],
   "source": [
    "# Load the data \n",
    "\n",
    "# Specifying the path to the CSV file\n",
    "file_path ='/Users/orkestro/Downloads/LSE_DA301_assignment_files/turtle_reviews.csv'"
   ]
  },
  {
   "cell_type": "code",
   "execution_count": 3,
   "id": "132e2779",
   "metadata": {},
   "outputs": [
    {
     "name": "stdout",
     "output_type": "stream",
     "text": [
      "Data loaded successfully!\n",
      "\n",
      "First few rows of the data:\n",
      "   gender  age  remuneration (k£)  spending_score (1-100)  loyalty_points  \\\n",
      "0    Male   18              12.30                      39             210   \n",
      "1    Male   23              12.30                      81             524   \n",
      "2  Female   22              13.12                       6              40   \n",
      "3  Female   25              13.12                      77             562   \n",
      "4  Female   33              13.94                      40             366   \n",
      "\n",
      "  education language platform  product  \\\n",
      "0  graduate       EN      Web      453   \n",
      "1  graduate       EN      Web      466   \n",
      "2  graduate       EN      Web      254   \n",
      "3  graduate       EN      Web      263   \n",
      "4  graduate       EN      Web      291   \n",
      "\n",
      "                                              review  \\\n",
      "0  When it comes to a DM's screen, the space on t...   \n",
      "1  An Open Letter to GaleForce9*:\\n\\nYour unpaint...   \n",
      "2  Nice art, nice printing.  Why two panels are f...   \n",
      "3  Amazing buy! Bought it as a gift for our new d...   \n",
      "4  As my review of GF9's previous screens these w...   \n",
      "\n",
      "                                             summary  \n",
      "0  The fact that 50% of this space is wasted on a...  \n",
      "1  Another worthless Dungeon Master's screen from...  \n",
      "2                    pretty, but also pretty useless  \n",
      "3                                         Five Stars  \n",
      "4                                         Money trap  \n"
     ]
    }
   ],
   "source": [
    "# Reading the CSV file into a DataFrame named 'reviews'\n",
    "try:\n",
    "    reviews = pd.read_csv(file_path)\n",
    "    print(\"Data loaded successfully!\\n\")\n",
    "    print(\"First few rows of the data:\")\n",
    "    print(reviews.head())\n",
    "except FileNotFoundError:\n",
    "    print(\"File not found! Please check the file path and try again.\")"
   ]
  },
  {
   "cell_type": "code",
   "execution_count": 4,
   "id": "6af6a088",
   "metadata": {},
   "outputs": [
    {
     "name": "stdout",
     "output_type": "stream",
     "text": [
      "   gender  age  remuneration (k£)  spending_score (1-100)  loyalty_points  \\\n",
      "0    Male   18              12.30                      39             210   \n",
      "1    Male   23              12.30                      81             524   \n",
      "2  Female   22              13.12                       6              40   \n",
      "3  Female   25              13.12                      77             562   \n",
      "4  Female   33              13.94                      40             366   \n",
      "\n",
      "  education language platform  product  \\\n",
      "0  graduate       EN      Web      453   \n",
      "1  graduate       EN      Web      466   \n",
      "2  graduate       EN      Web      254   \n",
      "3  graduate       EN      Web      263   \n",
      "4  graduate       EN      Web      291   \n",
      "\n",
      "                                              review  \\\n",
      "0  When it comes to a DM's screen, the space on t...   \n",
      "1  An Open Letter to GaleForce9*:\\n\\nYour unpaint...   \n",
      "2  Nice art, nice printing.  Why two panels are f...   \n",
      "3  Amazing buy! Bought it as a gift for our new d...   \n",
      "4  As my review of GF9's previous screens these w...   \n",
      "\n",
      "                                             summary  \n",
      "0  The fact that 50% of this space is wasted on a...  \n",
      "1  Another worthless Dungeon Master's screen from...  \n",
      "2                    pretty, but also pretty useless  \n",
      "3                                         Five Stars  \n",
      "4                                         Money trap  \n"
     ]
    }
   ],
   "source": [
    "# Basic data exploration \n",
    "\n",
    "print(reviews.head())"
   ]
  },
  {
   "cell_type": "code",
   "execution_count": 5,
   "id": "6cef49bd",
   "metadata": {},
   "outputs": [
    {
     "name": "stdout",
     "output_type": "stream",
     "text": [
      "(2000, 11)\n"
     ]
    }
   ],
   "source": [
    "print(reviews.shape)"
   ]
  },
  {
   "cell_type": "markdown",
   "id": "3d06d123",
   "metadata": {},
   "source": [
    "## Question 3: Sense-check the DataFrame"
   ]
  },
  {
   "cell_type": "code",
   "execution_count": 6,
   "id": "e94a0107",
   "metadata": {},
   "outputs": [
    {
     "name": "stdout",
     "output_type": "stream",
     "text": [
      "   gender  age  remuneration (k£)  spending_score (1-100)  loyalty_points  \\\n",
      "0    Male   18              12.30                      39             210   \n",
      "1    Male   23              12.30                      81             524   \n",
      "2  Female   22              13.12                       6              40   \n",
      "3  Female   25              13.12                      77             562   \n",
      "4  Female   33              13.94                      40             366   \n",
      "\n",
      "  education language platform  product  \\\n",
      "0  graduate       EN      Web      453   \n",
      "1  graduate       EN      Web      466   \n",
      "2  graduate       EN      Web      254   \n",
      "3  graduate       EN      Web      263   \n",
      "4  graduate       EN      Web      291   \n",
      "\n",
      "                                              review  \\\n",
      "0  When it comes to a DM's screen, the space on t...   \n",
      "1  An Open Letter to GaleForce9*:\\n\\nYour unpaint...   \n",
      "2  Nice art, nice printing.  Why two panels are f...   \n",
      "3  Amazing buy! Bought it as a gift for our new d...   \n",
      "4  As my review of GF9's previous screens these w...   \n",
      "\n",
      "                                             summary  \n",
      "0  The fact that 50% of this space is wasted on a...  \n",
      "1  Another worthless Dungeon Master's screen from...  \n",
      "2                    pretty, but also pretty useless  \n",
      "3                                         Five Stars  \n",
      "4                                         Money trap  \n"
     ]
    }
   ],
   "source": [
    "# Print the dataframe \n",
    "\n",
    "print(reviews.head())"
   ]
  },
  {
   "cell_type": "code",
   "execution_count": 7,
   "id": "b4e5882d",
   "metadata": {},
   "outputs": [
    {
     "name": "stdout",
     "output_type": "stream",
     "text": [
      "gender                     object\n",
      "age                         int64\n",
      "remuneration (k£)         float64\n",
      "spending_score (1-100)      int64\n",
      "loyalty_points              int64\n",
      "education                  object\n",
      "language                   object\n",
      "platform                   object\n",
      "product                     int64\n",
      "review                     object\n",
      "summary                    object\n",
      "dtype: object\n"
     ]
    }
   ],
   "source": [
    "# Data types and metadata\n",
    "\n",
    "print(reviews.dtypes)"
   ]
  },
  {
   "cell_type": "code",
   "execution_count": 8,
   "id": "a8530a0d",
   "metadata": {},
   "outputs": [
    {
     "name": "stdout",
     "output_type": "stream",
     "text": [
      "<class 'pandas.core.frame.DataFrame'>\n",
      "RangeIndex: 2000 entries, 0 to 1999\n",
      "Data columns (total 11 columns):\n",
      " #   Column                  Non-Null Count  Dtype  \n",
      "---  ------                  --------------  -----  \n",
      " 0   gender                  2000 non-null   object \n",
      " 1   age                     2000 non-null   int64  \n",
      " 2   remuneration (k£)       2000 non-null   float64\n",
      " 3   spending_score (1-100)  2000 non-null   int64  \n",
      " 4   loyalty_points          2000 non-null   int64  \n",
      " 5   education               2000 non-null   object \n",
      " 6   language                2000 non-null   object \n",
      " 7   platform                2000 non-null   object \n",
      " 8   product                 2000 non-null   int64  \n",
      " 9   review                  2000 non-null   object \n",
      " 10  summary                 2000 non-null   object \n",
      "dtypes: float64(1), int64(4), object(6)\n",
      "memory usage: 172.0+ KB\n",
      "None\n"
     ]
    }
   ],
   "source": [
    "# Check additional metadata \n",
    "\n",
    "print(reviews.info())"
   ]
  },
  {
   "cell_type": "code",
   "execution_count": 9,
   "id": "d02766a3",
   "metadata": {},
   "outputs": [
    {
     "name": "stdout",
     "output_type": "stream",
     "text": [
      "gender                    0\n",
      "age                       0\n",
      "remuneration (k£)         0\n",
      "spending_score (1-100)    0\n",
      "loyalty_points            0\n",
      "education                 0\n",
      "language                  0\n",
      "platform                  0\n",
      "product                   0\n",
      "review                    0\n",
      "summary                   0\n",
      "dtype: int64\n"
     ]
    }
   ],
   "source": [
    "# Check for missing values\n",
    "\n",
    "print(reviews.isnull().sum())"
   ]
  },
  {
   "cell_type": "code",
   "execution_count": 10,
   "id": "80c6fab5",
   "metadata": {},
   "outputs": [
    {
     "name": "stdout",
     "output_type": "stream",
     "text": [
      "               age  remuneration (k£)  spending_score (1-100)  loyalty_points  \\\n",
      "count  2000.000000        2000.000000             2000.000000     2000.000000   \n",
      "mean     39.495000          48.079060               50.000000     1578.032000   \n",
      "std      13.573212          23.123984               26.094702     1283.239705   \n",
      "min      17.000000          12.300000                1.000000       25.000000   \n",
      "25%      29.000000          30.340000               32.000000      772.000000   \n",
      "50%      38.000000          47.150000               50.000000     1276.000000   \n",
      "75%      49.000000          63.960000               73.000000     1751.250000   \n",
      "max      72.000000         112.340000               99.000000     6847.000000   \n",
      "\n",
      "            product  \n",
      "count   2000.000000  \n",
      "mean    4320.521500  \n",
      "std     3148.938839  \n",
      "min      107.000000  \n",
      "25%     1589.250000  \n",
      "50%     3624.000000  \n",
      "75%     6654.000000  \n",
      "max    11086.000000  \n"
     ]
    }
   ],
   "source": [
    "# Descriptive statistics \n",
    "\n",
    "print(reviews.describe())"
   ]
  },
  {
   "cell_type": "markdown",
   "id": "2bdb6155",
   "metadata": {},
   "source": [
    "## Question 3: Remove Redundant Columns "
   ]
  },
  {
   "cell_type": "code",
   "execution_count": 11,
   "id": "4c22d427",
   "metadata": {},
   "outputs": [],
   "source": [
    "# Drop redundant columns\n",
    "\n",
    "reviews_cleaned = reviews.drop(columns=['language', 'platform'])"
   ]
  },
  {
   "cell_type": "markdown",
   "id": "351ddb5f",
   "metadata": {},
   "source": [
    "## Question 4: Change Column Headings"
   ]
  },
  {
   "cell_type": "code",
   "execution_count": 12,
   "id": "8b256c9f",
   "metadata": {},
   "outputs": [],
   "source": [
    "# Rename columns for easier reference\n",
    "\n",
    "reviews_cleaned.rename(columns={'remuneration (k£)': 'remuneration', 'spending_score (1-100)': 'spending_score'}, inplace=True)"
   ]
  },
  {
   "cell_type": "code",
   "execution_count": 13,
   "id": "ac0c64fc",
   "metadata": {},
   "outputs": [
    {
     "name": "stdout",
     "output_type": "stream",
     "text": [
      "Column names after renaming:\n",
      "['gender', 'age', 'remuneration', 'spending_score', 'loyalty_points', 'education', 'product', 'review', 'summary']\n"
     ]
    }
   ],
   "source": [
    "# Confirm changes\n",
    "\n",
    "print(\"Column names after renaming:\")\n",
    "print(reviews_cleaned.columns.tolist())"
   ]
  },
  {
   "cell_type": "markdown",
   "id": "9a9a6efc",
   "metadata": {},
   "source": [
    "## Question 5: Save Clean DataFrame"
   ]
  },
  {
   "cell_type": "code",
   "execution_count": 14,
   "id": "d3351d78",
   "metadata": {},
   "outputs": [],
   "source": [
    "# Save cleaned data\n",
    "\n",
    "reviews_cleaned.to_csv('reviews_cleaned.csv', index=False)"
   ]
  },
  {
   "cell_type": "markdown",
   "id": "9d57fbfa",
   "metadata": {},
   "source": [
    "## Question 6: Import and Sense-Check Cleaned Data"
   ]
  },
  {
   "cell_type": "code",
   "execution_count": 15,
   "id": "a811c629",
   "metadata": {},
   "outputs": [],
   "source": [
    "# Reimport saved cleaned data\n",
    "reviews_reloaded = pd.read_csv('reviews_cleaned.csv')"
   ]
  },
  {
   "cell_type": "code",
   "execution_count": 16,
   "id": "89f1d881",
   "metadata": {},
   "outputs": [
    {
     "name": "stdout",
     "output_type": "stream",
     "text": [
      "\n",
      "Reloaded data column names:\n",
      "['gender', 'age', 'remuneration', 'spending_score', 'loyalty_points', 'education', 'product', 'review', 'summary']\n"
     ]
    }
   ],
   "source": [
    "# Check reloaded data\n",
    "print(\"\\nReloaded data column names:\")\n",
    "print(reviews_reloaded.columns.tolist())"
   ]
  },
  {
   "cell_type": "markdown",
   "id": "7f5e8d30",
   "metadata": {},
   "source": [
    "## Question 7: Linear Regression Analysis"
   ]
  },
  {
   "cell_type": "code",
   "execution_count": 17,
   "id": "aa9f68aa",
   "metadata": {},
   "outputs": [],
   "source": [
    "import statsmodels.api as sm\n",
    "\n",
    "# Ensure that 'reviews_cleaned' DataFrame contains the relevant data\n",
    "X = reviews_cleaned[['age', 'remuneration', 'spending_score']]\n",
    "Y = reviews_cleaned['loyalty_points']\n",
    "\n",
    "# Adding a constant to the model (intercept)\n",
    "X = sm.add_constant(X)\n",
    "\n",
    "# Fit the regression model\n",
    "model = sm.OLS(Y, X).fit()"
   ]
  },
  {
   "cell_type": "code",
   "execution_count": 18,
   "id": "42f50a84",
   "metadata": {},
   "outputs": [
    {
     "name": "stdout",
     "output_type": "stream",
     "text": [
      "Parameters:  const            -2203.059751\n",
      "age                 11.060659\n",
      "remuneration        34.008385\n",
      "spending_score      34.183197\n",
      "dtype: float64\n",
      "\n",
      "Standard Errors:  const             52.360900\n",
      "age                0.868845\n",
      "remuneration       0.497000\n",
      "spending_score     0.451931\n",
      "dtype: float64\n",
      "\n",
      "Summary:                              OLS Regression Results                            \n",
      "==============================================================================\n",
      "Dep. Variable:         loyalty_points   R-squared:                       0.840\n",
      "Model:                            OLS   Adj. R-squared:                  0.840\n",
      "Method:                 Least Squares   F-statistic:                     3491.\n",
      "Date:                Mon, 02 Oct 2023   Prob (F-statistic):               0.00\n",
      "Time:                        19:20:44   Log-Likelihood:                -15320.\n",
      "No. Observations:                2000   AIC:                         3.065e+04\n",
      "Df Residuals:                    1996   BIC:                         3.067e+04\n",
      "Df Model:                           3                                         \n",
      "Covariance Type:            nonrobust                                         \n",
      "==================================================================================\n",
      "                     coef    std err          t      P>|t|      [0.025      0.975]\n",
      "----------------------------------------------------------------------------------\n",
      "const          -2203.0598     52.361    -42.075      0.000   -2305.747   -2100.372\n",
      "age               11.0607      0.869     12.730      0.000       9.357      12.765\n",
      "remuneration      34.0084      0.497     68.427      0.000      33.034      34.983\n",
      "spending_score    34.1832      0.452     75.638      0.000      33.297      35.070\n",
      "==============================================================================\n",
      "Omnibus:                       22.644   Durbin-Watson:                   3.453\n",
      "Prob(Omnibus):                  0.000   Jarque-Bera (JB):               24.110\n",
      "Skew:                           0.227   Prob(JB):                     5.82e-06\n",
      "Kurtosis:                       3.290   Cond. No.                         377.\n",
      "==============================================================================\n",
      "\n",
      "Notes:\n",
      "[1] Standard Errors assume that the covariance matrix of the errors is correctly specified.\n"
     ]
    }
   ],
   "source": [
    "# Extract estimated parameers and generate regression table\n",
    "\n",
    "# Getting the estimated parameters\n",
    "params = model.params\n",
    "print(\"Parameters: \", params)\n",
    "\n",
    "# Getting standard errors\n",
    "std_err = model.bse\n",
    "print(\"\\nStandard Errors: \", std_err)\n",
    "\n",
    "# Getting predicted values\n",
    "predictions = model.predict(X)\n",
    "\n",
    "# Display the regression table\n",
    "print(\"\\nSummary: \", model.summary())"
   ]
  },
  {
   "cell_type": "code",
   "execution_count": 19,
   "id": "b0679016",
   "metadata": {},
   "outputs": [
    {
     "data": {
      "image/png": "[encoded data removed]",
      "text/plain": [
       "<Figure size 1000x600 with 1 Axes>"
      ]
     },
     "metadata": {},
     "output_type": "display_data"
    }
   ],
   "source": [
    "# Plotting the regression line\n",
    "\n",
    "import matplotlib.pyplot as plt\n",
    "import seaborn as sns\n",
    "\n",
    "# Example: Visualizing relationship between 'age' and 'loyalty_points'\n",
    "plt.figure(figsize=(10,6))\n",
    "sns.scatterplot(x=reviews_cleaned['age'], y=reviews_cleaned['loyalty_points'])\n",
    "\n",
    "# Getting predictions when considering 'age' as the only independent variable\n",
    "single_var_model = sm.OLS(Y, sm.add_constant(reviews_cleaned['age'])).fit()\n",
    "plt.plot(reviews_cleaned['age'], single_var_model.predict(sm.add_constant(reviews_cleaned['age'])), color='red')\n",
    "\n",
    "plt.title('Relationship between Age and Loyalty Points')\n",
    "plt.xlabel('Age')\n",
    "plt.ylabel('Loyalty Points')\n",
    "plt.show()"
   ]
  }
 ],
 "metadata": {
  "kernelspec": {
   "display_name": "Python 3 (ipykernel)",
   "language": "python",
   "name": "python3"
  },
  "language_info": {
   "codemirror_mode": {
    "name": "ipython",
    "version": 3
   },
   "file_extension": ".py",
   "mimetype": "text/x-python",
   "name": "python",
   "nbconvert_exporter": "python",
   "pygments_lexer": "ipython3",
   "version": "3.11.3"
  }
 },
 "nbformat": 4,
 "nbformat_minor": 5
}
